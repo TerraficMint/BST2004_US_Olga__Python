{
 "cells": [
  {
   "cell_type": "markdown",
   "id": "25826dbd",
   "metadata": {},
   "source": [
    " # Лабораторная работа №1\n",
    " ## Выполнила студентка группы БСТ2004 Ус Ольга\n",
    " ### Задание №1"
   ]
  },
  {
   "cell_type": "code",
   "execution_count": null,
   "id": "0c9045dd",
   "metadata": {},
   "outputs": [],
   "source": [
    "print (\"Hello, World!\")"
   ]
  },
  {
   "cell_type": "markdown",
   "id": "29be9a37",
   "metadata": {},
   "source": [
    " ### Задание №2\n",
    " Написать генератор случайных матриц(многомерных), который принимает\n",
    "опциональные параметры m, n, min_limit, max_limit, где m и n указывают размер\n",
    "матрицы, а min_lim и max_lim - минимальное и максимальное значение для\n",
    "генерируемого числа. "
   ]
  },
  {
   "cell_type": "code",
   "execution_count": 110,
   "id": "39550390",
   "metadata": {},
   "outputs": [
    {
     "name": "stdout",
     "output_type": "stream",
     "text": [
      "\n",
      "Массив A:\n",
      "[-188, 312, -214, 729, 876]\n",
      "[462, 238, 643, -187, -111]\n",
      "[367, 8, 975, 360, 763]\n",
      "[326, 369, 636, 443, 558]\n",
      "[146, 707, 536, 389, -172]\n",
      "\n"
     ]
    }
   ],
   "source": [
    "import random\n",
    "random.seed(113)\n",
    "\n",
    "min_limit = -250\n",
    "max_limit = 1016\n",
    "m = 5\n",
    "n = 5\n",
    "A = [ [0]*n for i in range(m) ]\n",
    "\n",
    "\n",
    "for i in range(m):\n",
    "    for j in range(n):\n",
    "        A[i][j] = random.randint(min_limit, max_limit)\n",
    "        \n",
    "print ('\\nМассив A:')\n",
    "for j in range(n):\n",
    "    print (A[j])\n",
    "print()"
   ]
  },
  {
   "cell_type": "markdown",
   "id": "f62dba4d",
   "metadata": {},
   "source": [
    "### Задание №3\n",
    "Реализовать методы сортировки строк числовой матрицы в соответствии с\n",
    "заданием. Оценить время работы каждого алгоритма сортировки и сравнить его со\n",
    "временем стандартной функции сортировки. Испытания проводить на сгенерированных\n",
    "матрицах.\n",
    "\n",
    "Методы:\n",
    "Выбором, Вставкой, Обменом, Шелла, Турнирная, Быстрая сортировка, Пирамидальная"
   ]
  },
  {
   "cell_type": "markdown",
   "id": "e562bd48",
   "metadata": {},
   "source": [
    "Сортировка вставкой"
   ]
  },
  {
   "cell_type": "code",
   "execution_count": 111,
   "id": "7ea3ccd8",
   "metadata": {},
   "outputs": [
    {
     "name": "stdout",
     "output_type": "stream",
     "text": [
      "\n",
      "Исходный массив A:\n",
      "[243, 902, -50, 438, 248]\n",
      "[-153, 64, 812, 836, 809]\n",
      "[352, 941, -120, 850, 512]\n",
      "[441, -33, -59, 697, 559]\n",
      "[-24, 976, 830, 367, 506]\n",
      "\n",
      "\n",
      "Отсортрованый массив A:\n",
      "[-50, 243, 248, 438, 902]\n",
      "[-153, 64, 809, 812, 836]\n",
      "[-120, 352, 512, 850, 941]\n",
      "[-59, -33, 441, 559, 697]\n",
      "[-24, 367, 506, 830, 976]\n",
      "\n"
     ]
    }
   ],
   "source": [
    "import random\n",
    "random.seed(114)\n",
    "\n",
    "#входные данные\n",
    "min_limit = -250\n",
    "max_limit = 1016\n",
    "m = 5\n",
    "n = 5\n",
    "A = [ [0]*n for i in range(m) ]\n",
    "\n",
    "# генерация двумерного массива \n",
    "for i in range(m):\n",
    "    for j in range(n):\n",
    "        A[i][j] = random.randint(min_limit, max_limit)\n",
    "        \n",
    "print ('\\nИсходный массив A:')\n",
    "for j in range(n):\n",
    "    print (A[j])\n",
    "print()\n",
    "\n",
    "# сортировка Вставкой\n",
    "for i in range(m):\n",
    "    for j in range(n):\n",
    "        \n",
    "        #сохранение эл-та массива во временную переменную\n",
    "        temp = A[i][j]\n",
    "        #локальный счетчик\n",
    "        k = j-1\n",
    "        \n",
    "        # перемещение всех эл-ов больше текущего эл-та направо\n",
    "        while k >=0 and temp < A[i][k] :\n",
    "            A[i][k+1] = A[i][k]\n",
    "            k -= 1\n",
    "        A[i][k+1] = temp \n",
    "        \n",
    "\n",
    "print ('\\nОтсортрованый массив A:')\n",
    "for j in range(n):\n",
    "    print (A[j])\n",
    "print()"
   ]
  },
  {
   "cell_type": "markdown",
   "id": "c84938b6",
   "metadata": {},
   "source": [
    "Сортировка Шелла"
   ]
  },
  {
   "cell_type": "code",
   "execution_count": 1,
   "id": "ba1e0b63",
   "metadata": {},
   "outputs": [
    {
     "name": "stdout",
     "output_type": "stream",
     "text": [
      "\n",
      "Исходный массив A:\n",
      "[-188, 312, -214, 729, 876]\n",
      "[462, 238, 643, -187, -111]\n",
      "[367, 8, 975, 360, 763]\n",
      "[326, 369, 636, 443, 558]\n",
      "[146, 707, 536, 389, -172]\n",
      "\n",
      "\n",
      "Отсортрованый массив A:\n",
      "[-214, -188, 312, 729, 876]\n",
      "[-187, 238, 462, 643, -111]\n",
      "[8, 360, 367, 975, 763]\n",
      "[326, 369, 443, 636, 558]\n",
      "[146, 389, 536, 707, -172]\n",
      "\n"
     ]
    }
   ],
   "source": [
    "import random\n",
    "random.seed(113)\n",
    "\n",
    "#входные данные\n",
    "min_limit = -250\n",
    "max_limit = 1016\n",
    "m = 5\n",
    "n = 5\n",
    "A = [ [0]*n for i in range(m) ]\n",
    "\n",
    "# генерация двумерного массива \n",
    "for i in range(m):\n",
    "    for j in range(n):\n",
    "        A[i][j] = random.randint(min_limit, max_limit)\n",
    "        \n",
    "print ('\\nИсходный массив A:')\n",
    "for j in range(n):\n",
    "    print (A[j])\n",
    "print()\n",
    "\n",
    "# сортировка Шелла\n",
    "for i in range(m):\n",
    "    for j in range(n):     \n",
    "\n",
    "        # вычисление промежутка между эл-ми массива\n",
    "        gap = n//2\n",
    "        # сортировка происходит путем сравнивания эл-ов \n",
    "        # с вычисленной разинцей gap между индексами элементов\n",
    "        while gap > 0:\n",
    "\n",
    "            for k in range(gap,j):\n",
    "\n",
    "                # сохранение эл-та A[i][k] в локальную пременную temp\n",
    "                temp = A[i][k]\n",
    "\n",
    "                # сравнение эл-ов по условию меньшинства и их обмен при выполнении условия\n",
    "                f = k\n",
    "                while  f >= gap and A[i][f-gap] >temp:\n",
    "                    A[i][f] = A[i][f-gap]\n",
    "                    f -= gap\n",
    "                A[i][f] = temp\n",
    "            gap //= 2\n",
    "\n",
    "print ('\\nОтсортрованый массив A:')\n",
    "for j in range(n):\n",
    "    print (A[j])\n",
    "print()"
   ]
  },
  {
   "cell_type": "code",
   "execution_count": null,
   "id": "56d0420f",
   "metadata": {},
   "outputs": [],
   "source": []
  }
 ],
 "metadata": {
  "celltoolbar": "Отсутствует",
  "kernelspec": {
   "display_name": "Python 3 (ipykernel)",
   "language": "python",
   "name": "python3"
  },
  "language_info": {
   "codemirror_mode": {
    "name": "ipython",
    "version": 3
   },
   "file_extension": ".py",
   "mimetype": "text/x-python",
   "name": "python",
   "nbconvert_exporter": "python",
   "pygments_lexer": "ipython3",
   "version": "3.9.7"
  }
 },
 "nbformat": 4,
 "nbformat_minor": 5
}
